{
 "cells": [
  {
   "cell_type": "code",
   "execution_count": 29,
   "metadata": {},
   "outputs": [],
   "source": [
    "from snowflake.snowpark import Session\n",
    "from snowflake.snowpark import functions as F\n",
    "import pandas as pd\n",
    "from dotenv import load_dotenv\n",
    "import os"
   ]
  },
  {
   "cell_type": "code",
   "execution_count": 30,
   "metadata": {},
   "outputs": [],
   "source": [
    "def configure():\n",
    "    load_dotenv()\n",
    "\n",
    "configure()"
   ]
  },
  {
   "cell_type": "code",
   "execution_count": 31,
   "metadata": {},
   "outputs": [],
   "source": [
    "def snowpark_session():\n",
    "    connection_parameters = {\n",
    "        \"account\": os.getenv('SNOWFLAKE_ACCOUNT_NAME'),\n",
    "        \"user\": os.getenv('SNOWFLAKE_USER_NAME'),\n",
    "        \"password\": os.getenv('SNOWFLAKE_PASSWORD'),\n",
    "        \"warehouse\": os.getenv('SNOWFLAKE_WAREHOUSE'),\n",
    "        \"database\": os.getenv('SNOWFLAKE_DATABASE'),\n",
    "    }\n",
    "    session = Session.builder.configs(connection_parameters).create()\n",
    "    session.sql_simplifier_enabled = True\n",
    "    return session"
   ]
  },
  {
   "cell_type": "code",
   "execution_count": 32,
   "metadata": {},
   "outputs": [],
   "source": [
    "# def check_snowpark_connection():\n",
    "#     try:\n",
    "#         # Create a Snowpark session\n",
    "#         session = Session.builder.configs(connection_parameters).create()\n",
    "\n",
    "#         # If connection is successful, execute a simple query\n",
    "#         result = session.sql(\"SELECT CURRENT_USER(), CURRENT_ACCOUNT(), CURRENT_REGION()\").collect()\n",
    "        \n",
    "#         # Print the result\n",
    "#         print(f\"Connection successful! Current User: {result[0][0]}, Account: {result[0][1]}, Region: {result[0][2]}\")\n",
    "\n",
    "#         # Close the session\n",
    "#         session.close()\n",
    "\n",
    "#     except Exception as e:\n",
    "#         print(f\"Failed to connect to Snowflake using Snowpark: {e}\")\n",
    "\n",
    "# # Call the function to check the connection\n",
    "# check_snowpark_connection()"
   ]
  },
  {
   "cell_type": "code",
   "execution_count": 33,
   "metadata": {},
   "outputs": [],
   "source": [
    "#transform columns\n",
    "app_df = pd.read_csv('C:/Users/User/Desktop/Apple Store API/appstore_sales_data.csv', delimiter='\\t')\n",
    "app_df.columns = [col.replace(\" \", \"_\") for col in app_df.columns]"
   ]
  },
  {
   "cell_type": "code",
   "execution_count": 34,
   "metadata": {},
   "outputs": [
    {
     "name": "stdout",
     "output_type": "stream",
     "text": [
      "Composite key is unique\n"
     ]
    }
   ],
   "source": [
    "#Generate primary key\n",
    "app_df['Composite_Key'] = app_df['Product_Type_Identifier'].astype(str) + app_df['Units'].astype(str) + app_df['Begin_Date'].astype(str) + app_df['Country_Code'].astype(str) + app_df['Device'].astype(str) + app_df['Version'].astype(str) + app_df['Developer_Proceeds'].astype(str)\n",
    "app_df['Composite_Key'] = app_df['Composite_Key'].str.replace('/', '', regex=False).str.replace('.', '', regex=False).str.lower()\n",
    "\n",
    "# Check if the new composite column is unique\n",
    "if app_df['Composite_Key'].is_unique:\n",
    "    print(\"Composite key is unique\")\n",
    "else:\n",
    "    print(\"Composite key is not unique\")"
   ]
  },
  {
   "cell_type": "code",
   "execution_count": 35,
   "metadata": {},
   "outputs": [
    {
     "name": "stderr",
     "output_type": "stream",
     "text": [
      "You might have more than one threads sharing the Session object trying to update sql_simplifier_enabled. Updating this while other tasks are running can potentially cause unexpected behavior. Please update the session configuration before starting the threads.\n"
     ]
    },
    {
     "data": {
      "text/plain": [
       "[Row(status='Table SALES_RG successfully created.')]"
      ]
     },
     "execution_count": 35,
     "metadata": {},
     "output_type": "execute_result"
    }
   ],
   "source": [
    "session_sp = snowpark_session()\n",
    "\n",
    "\n",
    "session_sp.sql(\n",
    "\"\"\"\n",
    "CREATE OR REPLACE TABLE demo.hiring_temp.sales_rg (\n",
    "    Provider VARCHAR(5),\n",
    "    Provider_Country VARCHAR(2),\n",
    "    SKU VARCHAR(100),\n",
    "    Developer VARCHAR(4000),\n",
    "    Title VARCHAR(600),\n",
    "    Version VARCHAR(100),\n",
    "    Product_Type_Identifier VARCHAR(20),\n",
    "    Units DECIMAL(18,2),\n",
    "    Developer_Proceeds DECIMAL(18,2),\n",
    "    Begin_Date DATE,\n",
    "    End_Date DATE,\n",
    "    Customer_Currency CHAR(3),\n",
    "    Country_Code CHAR(2),\n",
    "    Currency_of_Proceeds CHAR(3),\n",
    "    Apple_Identifier DECIMAL(18,0),\n",
    "    Customer_Price DECIMAL(18,2),\n",
    "    Promo_Code VARCHAR(10),\n",
    "    Parent_Identifier VARCHAR(100),\n",
    "    Subscription VARCHAR(10),\n",
    "    Period VARCHAR(30),\n",
    "    Category VARCHAR(50),\n",
    "    CMB VARCHAR(5),\n",
    "    Device VARCHAR(10),\n",
    "    Supported_Platforms VARCHAR(12),\n",
    "    Proceeds_Reason VARCHAR(20),\n",
    "    Preserved_Pricing VARCHAR(3),\n",
    "    Client VARCHAR(30),\n",
    "    Order_Type VARCHAR(30),\n",
    "    Composite_Key VARCHAR(100) NOT NULL,\n",
    "    PRIMARY KEY (Composite_Key)\n",
    ");\n",
    "\n",
    "\"\"\"\n",
    ").collect()\n"
   ]
  },
  {
   "cell_type": "code",
   "execution_count": 36,
   "metadata": {},
   "outputs": [
    {
     "data": {
      "text/plain": [
       "[Row(status='Table SALES_RG successfully created.')]"
      ]
     },
     "execution_count": 36,
     "metadata": {},
     "output_type": "execute_result"
    }
   ],
   "source": [
    "session_sp.sql(\n",
    "\"\"\"\n",
    "CREATE OR REPLACE TABLE demo.hiring_prod.sales_rg (\n",
    "    Provider VARCHAR(5),\n",
    "    Provider_Country VARCHAR(2),\n",
    "    SKU VARCHAR(100),\n",
    "    Developer VARCHAR(4000),\n",
    "    Title VARCHAR(600),\n",
    "    Version VARCHAR(100),\n",
    "    Product_Type_Identifier VARCHAR(20),\n",
    "    Units DECIMAL(18,2),\n",
    "    Developer_Proceeds DECIMAL(18,2),\n",
    "    Begin_Date DATE,\n",
    "    End_Date DATE,\n",
    "    Customer_Currency CHAR(3),\n",
    "    Country_Code CHAR(2),\n",
    "    Currency_of_Proceeds CHAR(3),\n",
    "    Apple_Identifier DECIMAL(18,0),\n",
    "    Customer_Price DECIMAL(18,2),\n",
    "    Promo_Code VARCHAR(10),\n",
    "    Parent_Identifier VARCHAR(100),\n",
    "    Subscription VARCHAR(10),\n",
    "    Period VARCHAR(30),\n",
    "    Category VARCHAR(50),\n",
    "    CMB VARCHAR(5),\n",
    "    Device VARCHAR(10),\n",
    "    Supported_Platforms VARCHAR(12),\n",
    "    Proceeds_Reason VARCHAR(20),\n",
    "    Preserved_Pricing VARCHAR(3),\n",
    "    Client VARCHAR(30),\n",
    "    Order_Type VARCHAR(30),\n",
    "    Composite_Key VARCHAR(100) NOT NULL,\n",
    "    PRIMARY KEY (Composite_Key)\n",
    ");\n",
    "\n",
    "\"\"\"\n",
    ").collect()"
   ]
  },
  {
   "cell_type": "code",
   "execution_count": 37,
   "metadata": {},
   "outputs": [],
   "source": [
    "#Insert to temp table from pandas dataframe\n",
    "\n",
    "df_sp = session_sp.write_pandas(\n",
    "\n",
    "df = app_df,\n",
    "table_name=\"sales_rg\",\n",
    "database = \"demo\",\n",
    "schema = \"hiring_temp\",\n",
    "quote_identifiers = False,\n",
    "overwrite = True\n",
    ")"
   ]
  },
  {
   "cell_type": "code",
   "execution_count": 38,
   "metadata": {},
   "outputs": [
    {
     "data": {
      "text/plain": [
       "[Row(number of rows inserted=414)]"
      ]
     },
     "execution_count": 38,
     "metadata": {},
     "output_type": "execute_result"
    }
   ],
   "source": [
    "#merge into prod\n",
    "\n",
    "session_sp.sql(\n",
    "\"\"\"\n",
    "\n",
    "MERGE INTO demo.hiring_prod.sales_rg AS prod\n",
    "USING demo.hiring_temp.sales_rg AS temp\n",
    "ON prod.Composite_Key = temp.Composite_Key\n",
    "WHEN NOT MATCHED THEN\n",
    "    INSERT (\n",
    "        Composite_Key, \n",
    "        Provider, \n",
    "        Provider_Country, \n",
    "        SKU, \n",
    "        Developer, \n",
    "        Title, \n",
    "        Version, \n",
    "        Product_Type_Identifier, \n",
    "        Units, \n",
    "        Developer_Proceeds, \n",
    "        Begin_Date, \n",
    "        End_Date, \n",
    "        Customer_Currency, \n",
    "        Country_Code, \n",
    "        Currency_of_Proceeds, \n",
    "        Apple_Identifier, \n",
    "        Customer_Price, \n",
    "        Promo_Code, \n",
    "        Parent_Identifier, \n",
    "        Subscription, \n",
    "        Period, \n",
    "        Category, \n",
    "        CMB, \n",
    "        Device, \n",
    "        Supported_Platforms, \n",
    "        Proceeds_Reason, \n",
    "        Preserved_Pricing, \n",
    "        Client, \n",
    "        Order_Type\n",
    "    )\n",
    "    VALUES (\n",
    "        temp.Composite_Key, \n",
    "        temp.Provider, \n",
    "        temp.Provider_Country, \n",
    "        temp.SKU, \n",
    "        temp.Developer, \n",
    "        temp.Title, \n",
    "        temp.Version, \n",
    "        temp.Product_Type_Identifier, \n",
    "        temp.Units, \n",
    "        temp.Developer_Proceeds, \n",
    "        temp.Begin_Date, \n",
    "        temp.End_Date, \n",
    "        temp.Customer_Currency, \n",
    "        temp.Country_Code, \n",
    "        temp.Currency_of_Proceeds, \n",
    "        temp.Apple_Identifier, \n",
    "        temp.Customer_Price, \n",
    "        temp.Promo_Code, \n",
    "        temp.Parent_Identifier, \n",
    "        temp.Subscription, \n",
    "        temp.Period, \n",
    "        temp.Category, \n",
    "        temp.CMB, \n",
    "        temp.Device, \n",
    "        temp.Supported_Platforms, \n",
    "        temp.Proceeds_Reason, \n",
    "        temp.Preserved_Pricing, \n",
    "        temp.Client, \n",
    "        temp.Order_Type\n",
    "    );\n",
    "\n",
    "\"\"\"\n",
    ").collect()"
   ]
  },
  {
   "cell_type": "code",
   "execution_count": null,
   "metadata": {},
   "outputs": [],
   "source": []
  }
 ],
 "metadata": {
  "kernelspec": {
   "display_name": "Python 3",
   "language": "python",
   "name": "python3"
  },
  "language_info": {
   "codemirror_mode": {
    "name": "ipython",
    "version": 3
   },
   "file_extension": ".py",
   "mimetype": "text/x-python",
   "name": "python",
   "nbconvert_exporter": "python",
   "pygments_lexer": "ipython3",
   "version": "3.11.6"
  }
 },
 "nbformat": 4,
 "nbformat_minor": 2
}
